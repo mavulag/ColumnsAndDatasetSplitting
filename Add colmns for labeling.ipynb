{
 "cells": [
  {
   "cell_type": "code",
   "execution_count": 28,
   "id": "3bca7ffb",
   "metadata": {},
   "outputs": [
    {
     "name": "stdout",
     "output_type": "stream",
     "text": [
      "Source file Name with absolute Path? : /home/arbpure/Documents/GeneralAI/tele_labelling/Abou_labeling.csv\n",
      "File Name to save a csv file (absolute Path)? : /home/arbpure/Documents/GeneralAI/tele_labelling/Abou_labeling3.csv\n"
     ]
    }
   ],
   "source": [
    "import pandas as pd\n",
    "\n",
    "## Provide file name with path for example: \"C:\\Users\\xxxxx\\flights.csv\"\n",
    "source_file = input(\"Source file Name with absolute Path? : \")\n",
    "\n",
    "dataset = pd.read_csv(source_file)\n",
    "\n",
    "#hapa tunaongeza column 'sentiment', 'topic', 'intent' kwa data ''\n",
    "\n",
    "number_of_rows = len(dataset.index) + 1\n",
    "\n",
    "i = 0\n",
    "while(i<number_of_rows):\n",
    "    dataset['sentiment'] = ''\n",
    "    dataset['topic'] = ''\n",
    "    dataset['intent'] = ''\n",
    "    i += 1\n",
    "\n",
    "##sth\n",
    "dataset = dataset.loc[:, 'date':'intent']\n",
    "    \n",
    "##print('Tengeneza jina la file na uhakikishe file path ni sahihi eg. C:\\Users\\xxxxx\\newFile.csv')\n",
    "target_file = input(\"File Name to save a csv file (absolute Path)? : \")\n",
    "dataset.to_csv(target_file)"
   ]
  },
  {
   "cell_type": "code",
   "execution_count": null,
   "id": "2fb3da7d",
   "metadata": {},
   "outputs": [],
   "source": []
  }
 ],
 "metadata": {
  "kernelspec": {
   "display_name": "Python 3 (ipykernel)",
   "language": "python",
   "name": "python3"
  },
  "language_info": {
   "codemirror_mode": {
    "name": "ipython",
    "version": 3
   },
   "file_extension": ".py",
   "mimetype": "text/x-python",
   "name": "python",
   "nbconvert_exporter": "python",
   "pygments_lexer": "ipython3",
   "version": "3.10.8"
  }
 },
 "nbformat": 4,
 "nbformat_minor": 5
}
