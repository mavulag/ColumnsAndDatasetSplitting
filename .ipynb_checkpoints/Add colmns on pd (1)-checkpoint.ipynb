{
 "cells": [
  {
   "cell_type": "code",
   "execution_count": 11,
   "id": "3bca7ffb",
   "metadata": {},
   "outputs": [
    {
     "name": "stdout",
     "output_type": "stream",
     "text": [
      "Source file Name with absolute Path? : /home/arbpure/Documents/GeneralAI/tele_labelling/Abou_labeling.csv\n",
      "File Name to save a csv file (absolute Path)? : /home/arbpure/Documents/GeneralAI/tele_labelling/arb.csv\n"
     ]
    }
   ],
   "source": [
    "import pandas as pd\n",
    "\n",
    "## Provide file name with path for example: \"C:\\Users\\xxxxx\\flights.csv\"\n",
    "source_file = input(\"Source file Name with absolute Path? : \")\n",
    "\n",
    "dataset = pd.read_csv(source_file)\n",
    "\n",
    "#hapa tunaongeza column 'sentiment', 'topic', 'intent' kwa data ''\n",
    "\n",
    "i = 0\n",
    "while(i<3745):\n",
    "    dataset['sentiment'] = ''\n",
    "    dataset['topic'] = ''\n",
    "    dataset['intent'] = ''\n",
    "    i += 1\n",
    "\n",
    "##print('Tengeneza jina la file na uhakikishe file path ni sahihi eg. C:\\Users\\xxxxx\\newFile.csv')\n",
    "target_file = input(\"File Name to save a csv file (absolute Path)? : \")\n",
    "dataset.to_csv(target_file)"
   ]
  },
  {
   "cell_type": "code",
   "execution_count": null,
   "id": "b131a07b",
   "metadata": {},
   "outputs": [],
   "source": []
  }
 ],
 "metadata": {
  "kernelspec": {
   "display_name": "Python 3 (ipykernel)",
   "language": "python",
   "name": "python3"
  },
  "language_info": {
   "codemirror_mode": {
    "name": "ipython",
    "version": 3
   },
   "file_extension": ".py",
   "mimetype": "text/x-python",
   "name": "python",
   "nbconvert_exporter": "python",
   "pygments_lexer": "ipython3",
   "version": "3.9.12"
  }
 },
 "nbformat": 4,
 "nbformat_minor": 5
}
