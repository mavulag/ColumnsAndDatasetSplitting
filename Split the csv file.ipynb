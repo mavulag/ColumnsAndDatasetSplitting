{
 "cells": [
  {
   "cell_type": "code",
   "execution_count": 5,
   "id": "6f20569b",
   "metadata": {},
   "outputs": [
    {
     "name": "stdout",
     "output_type": "stream",
     "text": [
      "File Name with absolute Path? : /home/arbpure/Documents/GeneralAI/tele_labelling/Abou_labeling.csv\n",
      "3745\n",
      "Minimum Number of rows per file? : 100\n",
      "Maximum Number of rows per file? : 100\n"
     ]
    }
   ],
   "source": [
    "import pandas as pd\n",
    "import random\n",
    "\n",
    "## Provide file name with path for example: \"C:\\Users\\xxxxx\\flights.csv\"\n",
    "split_source_file = input(\"File Name with absolute Path? : \")\n",
    "\n",
    "## find number of lines using Pandas\n",
    "pd_dataframe = pd.read_csv(split_source_file, header=0)\n",
    "number_of_rows = len(pd_dataframe.index) + 1\n",
    "\n",
    "## find number of lines using traditional python\n",
    "# fh = open(split_source_file, 'r')\n",
    "# for count, line in enumerate(fh):\n",
    "#     pass\n",
    "# py_number_of_rows = count\n",
    "\n",
    "print(f\"{number_of_rows}\")\n",
    "\n",
    "## Incase of equal split, provide the same number for min and max\n",
    "min_rows = int(input(\"Minimum Number of rows per file? : \"))\n",
    "max_rows = int(input(\"Maximum Number of rows per file? : \"))\n",
    "\n",
    "file_increment = 1\n",
    "skip_rows = 1\n",
    "\n",
    "## first file random numbers\n",
    "number_of_rows_perfile = random.randint(min_rows, max_rows)\n",
    "\n",
    "while True:\n",
    "\n",
    "    if number_of_rows_perfile <= 0:\n",
    "        break\n",
    "    ## Read CSV file with number of rows and skip respective number of lines\n",
    "    df = pd.read_csv(split_source_file, header=None, nrows = number_of_rows_perfile,skiprows = skip_rows)\n",
    "\n",
    "    ## Target file name\n",
    "    split_target_file = f\"{split_source_file[:-4]}_{file_increment}.csv\"\n",
    "\n",
    "    ## write to csv \n",
    "    df.to_csv(split_target_file, index=False, header=False, mode='a', chunksize=number_of_rows_perfile)\n",
    "\n",
    "    file_increment += 1\n",
    "\n",
    "    skip_rows += number_of_rows_perfile\n",
    "\n",
    "    ## Last file handler\n",
    "    if skip_rows >= number_of_rows:\n",
    "        number_of_rows_perfile = number_of_rows - skip_rows\n",
    "    else:\n",
    "        number_of_rows_perfile = random.randint(min_rows, max_rows)\n",
    "\n",
    "\n",
    "\n"
   ]
  },
  {
   "cell_type": "code",
   "execution_count": null,
   "id": "e6588787",
   "metadata": {},
   "outputs": [],
   "source": []
  }
 ],
 "metadata": {
  "kernelspec": {
   "display_name": "Python 3 (ipykernel)",
   "language": "python",
   "name": "python3"
  },
  "language_info": {
   "codemirror_mode": {
    "name": "ipython",
    "version": 3
   },
   "file_extension": ".py",
   "mimetype": "text/x-python",
   "name": "python",
   "nbconvert_exporter": "python",
   "pygments_lexer": "ipython3",
   "version": "3.10.8"
  }
 },
 "nbformat": 4,
 "nbformat_minor": 5
}
